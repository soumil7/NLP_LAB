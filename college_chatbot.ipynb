{
 "cells": [
  {
   "cell_type": "code",
   "execution_count": null,
   "id": "01021e35",
   "metadata": {},
   "outputs": [
    {
     "name": "stdout",
     "output_type": "stream",
     "text": [
      "College Chatbot: Hi there! Ask me about the college or anything else.\n",
      "You: hi\n",
      "College Chatbot: Hello! How can I assist you today?\n",
      "You: college\n",
      "College Chatbot: Our college is dedicated to providing quality education and fostering academic excellence.\n",
      "You: teacher\n",
      "College Chatbot: I'm sorry, I didn't understand that. Could you please rephrase or ask a different question?\n",
      "You: teachers\n",
      "College Chatbot: Our faculty consists of experienced professors who are experts in their respective fields.\n"
     ]
    }
   ],
   "source": [
    "import random\n",
    "\n",
    "def college_chatbot(user_input):\n",
    "    greetings = ['hello', 'hi', 'hey', 'greetings', 'hola']\n",
    "    farewells = ['bye', 'goodbye', 'see you', 'adios']\n",
    "    about_college_keywords = ['college', 'university', 'institution']\n",
    "    courses_keywords = ['courses', 'programs', 'degrees']\n",
    "    faculty_keywords = ['faculty', 'professors', 'teachers']\n",
    "    \n",
    "    user_input_lower = user_input.lower()\n",
    "    \n",
    "    if any(word in user_input_lower for word in greetings):\n",
    "        return \"Hello! How can I assist you today?\"\n",
    "    \n",
    "    elif any(word in user_input_lower for word in farewells):\n",
    "        return \"Goodbye! Have a great day!\"\n",
    "    \n",
    "    elif any(word in user_input_lower for word in about_college_keywords):\n",
    "        return \"Our college is dedicated to providing quality education and fostering academic excellence.\"\n",
    "    \n",
    "    elif any(word in user_input_lower for word in courses_keywords):\n",
    "        return \"We offer a variety of courses in different disciplines. You can find more details on our website or contact the admission office.\"\n",
    "    \n",
    "    elif any(word in user_input_lower for word in faculty_keywords):\n",
    "        return \"Our faculty consists of experienced professors who are experts in their respective fields.\"\n",
    "    \n",
    "    else:\n",
    "        return \"I'm sorry, I didn't understand that. Could you please rephrase or ask a different question?\"\n",
    "\n",
    "print(\"College Chatbot: Hi there! Ask me about the college or anything else.\")\n",
    "    \n",
    "while True:\n",
    "    user_input = input(\"You: \")\n",
    "        \n",
    "    if user_input.lower() == 'exit':\n",
    "        print(\"College Chatbot: Goodbye!\")\n",
    "        break\n",
    "        \n",
    "    response = college_chatbot(user_input)\n",
    "    print(\"College Chatbot:\", response)\n",
    "\n",
    "\n"
   ]
  },
  {
   "cell_type": "code",
   "execution_count": null,
   "id": "e2505d8c",
   "metadata": {},
   "outputs": [],
   "source": []
  }
 ],
 "metadata": {
  "kernelspec": {
   "display_name": "Python 3 (ipykernel)",
   "language": "python",
   "name": "python3"
  },
  "language_info": {
   "codemirror_mode": {
    "name": "ipython",
    "version": 3
   },
   "file_extension": ".py",
   "mimetype": "text/x-python",
   "name": "python",
   "nbconvert_exporter": "python",
   "pygments_lexer": "ipython3",
   "version": "3.10.9"
  }
 },
 "nbformat": 4,
 "nbformat_minor": 5
}
