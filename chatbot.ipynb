{
 "cells": [
  {
   "cell_type": "code",
   "execution_count": null,
   "id": "90654526",
   "metadata": {},
   "outputs": [
    {
     "name": "stdout",
     "output_type": "stream",
     "text": [
      "Simple ChatBot: Hi there! Type 'bye' to exit.\n",
      "You: oi\n",
      "Simple ChatBot: I'm not sure how to respond to that.\n",
      "You: oii\n",
      "Simple ChatBot: Could you please elaborate?\n",
      "You: oii\n",
      "Simple ChatBot: Could you please elaborate?\n",
      "You: oii\n",
      "Simple ChatBot: Could you please elaborate?\n",
      "You: oii\n",
      "Simple ChatBot: I'm not sure how to respond to that.\n"
     ]
    }
   ],
   "source": [
    "import random\n",
    "\n",
    "def simple_chatbot(user_input):\n",
    "    greetings = [\"hello\", \"hi\", \"hey\", \"greetings\", \"howdy\"]\n",
    "    farewells = [\"bye\", \"goodbye\", \"see you\", \"farewell\"]\n",
    "    responses = {\n",
    "        \"how are you\": [\"I'm good, thank you!\", \"I'm doing well.\", \"Not too bad.\"],\n",
    "        \"what's your name\": [\"I'm a chatbot.\", \"Call me ChatBot.\", \"I don't have a name.\"],\n",
    "        \"default\": [\"I'm not sure how to respond to that.\", \"Could you please elaborate?\", \"Interesting!\"]\n",
    "    }\n",
    "\n",
    "    user_input = user_input.lower()\n",
    "\n",
    "    for greeting in greetings:\n",
    "        if greeting in user_input:\n",
    "            return random.choice([\"Hello!\", \"Hi there!\", \"Greetings!\"])\n",
    "\n",
    "    for farewell in farewells:\n",
    "        if farewell in user_input:\n",
    "            return random.choice([\"Goodbye!\", \"See you later!\", \"Farewell!\"])\n",
    "\n",
    "    for question, answers in responses.items():\n",
    "        if question in user_input:\n",
    "            return random.choice(answers)\n",
    "\n",
    "    return random.choice(responses[\"default\"])\n",
    "\n",
    "\n",
    "print(\"Simple ChatBot: Hi there! Type 'bye' to exit.\")\n",
    "    \n",
    "while True:\n",
    "    user_input = input(\"You: \")\n",
    "        \n",
    "    if user_input.lower() == 'bye':\n",
    "        print(\"Simple ChatBot: Goodbye! Have a great day.\")\n",
    "        break\n",
    "        \n",
    "    response = simple_chatbot(user_input)\n",
    "    print(f\"Simple ChatBot: {response}\")"
   ]
  },
  {
   "cell_type": "code",
   "execution_count": null,
   "id": "1d483ab2",
   "metadata": {},
   "outputs": [],
   "source": []
  }
 ],
 "metadata": {
  "kernelspec": {
   "display_name": "Python 3 (ipykernel)",
   "language": "python",
   "name": "python3"
  },
  "language_info": {
   "codemirror_mode": {
    "name": "ipython",
    "version": 3
   },
   "file_extension": ".py",
   "mimetype": "text/x-python",
   "name": "python",
   "nbconvert_exporter": "python",
   "pygments_lexer": "ipython3",
   "version": "3.10.9"
  }
 },
 "nbformat": 4,
 "nbformat_minor": 5
}
