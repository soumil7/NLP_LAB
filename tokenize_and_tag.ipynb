{
 "cells": [
  {
   "cell_type": "code",
   "execution_count": 1,
   "id": "a7d3a7b6",
   "metadata": {},
   "outputs": [
    {
     "name": "stderr",
     "output_type": "stream",
     "text": [
      "[nltk_data] Downloading package punkt to\n",
      "[nltk_data]     C:\\Users\\soumi\\AppData\\Roaming\\nltk_data...\n",
      "[nltk_data]   Package punkt is already up-to-date!\n"
     ]
    },
    {
     "data": {
      "text/plain": [
       "True"
      ]
     },
     "execution_count": 1,
     "metadata": {},
     "output_type": "execute_result"
    }
   ],
   "source": [
    "import nltk \n",
    "nltk.download('punkt')"
   ]
  },
  {
   "cell_type": "code",
   "execution_count": 2,
   "id": "059ae5d3",
   "metadata": {},
   "outputs": [
    {
     "name": "stdout",
     "output_type": "stream",
     "text": [
      "['I', 'am', 'soumil', 'mithraen', ',', 'from', 'Kallakurichi']\n"
     ]
    }
   ],
   "source": [
    "text = \"I am soumil mithraen, from Kallakurichi\" \n",
    "from nltk.tokenize import word_tokenize\n",
    "word_tokens = word_tokenize(text)\n",
    "print(word_tokens)"
   ]
  },
  {
   "cell_type": "code",
   "execution_count": 5,
   "id": "5467306d",
   "metadata": {},
   "outputs": [
    {
     "name": "stdout",
     "output_type": "stream",
     "text": [
      "['Vanakam', 'da', 'Maapla', '@Theni', 'la', 'irunthu']\n"
     ]
    }
   ],
   "source": [
    "from nltk.tokenize import TweetTokenizer \n",
    "text = \"Vanakam da Maapla @Theni la irunthu\"\n",
    "tweet_tokenizer = TweetTokenizer() \n",
    "tokens = tweet_tokenizer.tokenize(text)\n",
    "print(tokens)"
   ]
  },
  {
   "cell_type": "code",
   "execution_count": 6,
   "id": "478d3ef4",
   "metadata": {},
   "outputs": [
    {
     "name": "stdout",
     "output_type": "stream",
     "text": [
      "['Vanakam', 'da', 'Maapla', '@', 'Theni', 'la', 'irunthu']\n"
     ]
    }
   ],
   "source": [
    "word_tokens = word_tokenize(text)\n",
    "print(word_tokens)"
   ]
  },
  {
   "cell_type": "code",
   "execution_count": 8,
   "id": "2bb4e985",
   "metadata": {},
   "outputs": [
    {
     "name": "stdout",
     "output_type": "stream",
     "text": [
      "['I am soumil, Hello all.', 'Hello guys!!!', '!']\n"
     ]
    }
   ],
   "source": [
    "from nltk.tokenize import sent_tokenize \n",
    "sent = \"I am soumil, Hello all. Hello guys!!!!\"\n",
    "sent_tokens = sent_tokenize(sent)\n",
    "print(sent_tokens)"
   ]
  },
  {
   "cell_type": "code",
   "execution_count": 10,
   "id": "5a4026bd",
   "metadata": {},
   "outputs": [
    {
     "name": "stderr",
     "output_type": "stream",
     "text": [
      "[nltk_data] Downloading package stopwords to\n",
      "[nltk_data]     C:\\Users\\soumi\\AppData\\Roaming\\nltk_data...\n",
      "[nltk_data]   Package stopwords is already up-to-date!\n"
     ]
    }
   ],
   "source": [
    "filtered = [] \n",
    "from nltk.corpus import stopwords \n",
    "nltk.download('stopwords') \n",
    "stop_words = set(stopwords.words('english'))"
   ]
  },
  {
   "cell_type": "code",
   "execution_count": 12,
   "id": "b1dbc88d",
   "metadata": {},
   "outputs": [
    {
     "name": "stdout",
     "output_type": "stream",
     "text": [
      "{'ma', 'itself', 'won', 'don', 'to', 'ourselves', 'up', 'we', 'our', 'most', 'who', 'i', 'herself', \"mustn't\", 'didn', 'again', 'he', 'been', 'then', 'hers', 'themselves', 'were', \"she's\", 'm', 'are', \"you'll\", \"wouldn't\", 'having', 'her', 'under', 'in', 'while', 'this', 'some', 'll', 'a', 'o', 'why', \"shan't\", 'shouldn', 'wouldn', 'such', 'can', 'hasn', 'do', 'should', 'any', 'during', 'as', 'she', 'weren', 'mustn', 'doesn', 'there', 're', 'your', \"you'd\", 'if', 'have', 'yourself', 'how', 'its', 'theirs', 'aren', 'yourselves', \"it's\", 't', 've', 'against', 'ain', 'own', 'their', \"you're\", 'until', 'isn', 'an', 'when', 'through', 'out', 'his', 'down', 'hadn', 'once', 'before', 'into', 'each', 'will', \"haven't\", 'below', 'yours', 'both', 'myself', \"that'll\", \"you've\", 'was', \"didn't\", 'which', 'off', 'am', 'after', 'where', 'same', 'or', 'over', \"mightn't\", 'above', \"weren't\", \"won't\", 'himself', 'shan', 'ours', 'of', 'nor', 'from', \"hadn't\", 'only', 'that', 'needn', 'them', 'whom', 'd', 'at', 'further', \"should've\", 'has', 'between', 'with', 'other', 'few', 'because', \"couldn't\", 'the', \"wasn't\", 'about', 'by', 'not', 'very', 'just', \"doesn't\", 'you', 'more', 'here', 'couldn', 'than', \"isn't\", 'my', 'is', 'all', 'those', 'haven', \"aren't\", \"shouldn't\", 'they', 'these', 'but', 'so', 'it', 'be', 's', 'wasn', 'no', 'too', \"hasn't\", 'him', 'had', \"don't\", 'now', 'y', 'mightn', \"needn't\", 'does', 'on', 'me', 'what', 'for', 'doing', 'did', 'and', 'being'}\n"
     ]
    }
   ],
   "source": [
    "print(stop_words)"
   ]
  },
  {
   "cell_type": "code",
   "execution_count": 17,
   "id": "3c426817",
   "metadata": {},
   "outputs": [
    {
     "name": "stdout",
     "output_type": "stream",
     "text": [
      "['i', 'am', 'soumil', 'mithraen,', 'from', 'kallakurichi']\n"
     ]
    }
   ],
   "source": [
    "text = \"I am soumil mithraen, from Kallakurichi\"\n",
    "tokens = text.lower().split()\n",
    "print(tokens)"
   ]
  },
  {
   "cell_type": "code",
   "execution_count": 18,
   "id": "11017ec8",
   "metadata": {},
   "outputs": [
    {
     "name": "stdout",
     "output_type": "stream",
     "text": [
      "New: soumil mithraen, kallakurichi\n"
     ]
    }
   ],
   "source": [
    "l = []\n",
    "for i in tokens: \n",
    "    if i not in stop_words: \n",
    "        l.append(i) \n",
    "print(\"New:\", \" \".join(l))"
   ]
  },
  {
   "cell_type": "code",
   "execution_count": null,
   "id": "965184d8",
   "metadata": {},
   "outputs": [],
   "source": []
  }
 ],
 "metadata": {
  "kernelspec": {
   "display_name": "Python 3 (ipykernel)",
   "language": "python",
   "name": "python3"
  },
  "language_info": {
   "codemirror_mode": {
    "name": "ipython",
    "version": 3
   },
   "file_extension": ".py",
   "mimetype": "text/x-python",
   "name": "python",
   "nbconvert_exporter": "python",
   "pygments_lexer": "ipython3",
   "version": "3.10.9"
  }
 },
 "nbformat": 4,
 "nbformat_minor": 5
}
