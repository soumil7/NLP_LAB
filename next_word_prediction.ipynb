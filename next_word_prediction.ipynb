{
 "cells": [
  {
   "cell_type": "code",
   "execution_count": 1,
   "id": "3c3570df",
   "metadata": {},
   "outputs": [
    {
     "name": "stdout",
     "output_type": "stream",
     "text": [
      "Enter a word or sentence: a\n",
      "Predicted next word: simple\n"
     ]
    }
   ],
   "source": [
    "import random\n",
    "\n",
    "def train_model(text):\n",
    "    words = text.split()\n",
    "    model = {}\n",
    "\n",
    "    for i in range(len(words) - 1):\n",
    "        current_word = words[i]\n",
    "        next_word = words[i + 1]\n",
    "\n",
    "        if current_word in model:\n",
    "            model[current_word].append(next_word)\n",
    "        else:\n",
    "            model[current_word] = [next_word]\n",
    "\n",
    "    return model\n",
    "\n",
    "def generate_next_word(model, seed_word):\n",
    "    possible_next_words = model.get(seed_word, [])\n",
    "    return random.choice(possible_next_words) if possible_next_words else None\n",
    "\n",
    "text_corpus = \"This is a simple example for next word prediction using a basic model in Python.\"\n",
    "\n",
    "word_model = train_model(text_corpus)\n",
    "\n",
    "# User input\n",
    "seed_word = input(\"Enter a word or sentence: \").split()[-1]\n",
    "\n",
    "# Generate next word\n",
    "next_word = generate_next_word(word_model, seed_word)\n",
    "\n",
    "# Display prediction\n",
    "if next_word:\n",
    "    print(f\"Predicted next word: {next_word}\")\n",
    "else:\n",
    "    print(\"No prediction available for the given word.\")\n"
   ]
  },
  {
   "cell_type": "code",
   "execution_count": null,
   "id": "62c37795",
   "metadata": {},
   "outputs": [],
   "source": []
  }
 ],
 "metadata": {
  "kernelspec": {
   "display_name": "Python 3 (ipykernel)",
   "language": "python",
   "name": "python3"
  },
  "language_info": {
   "codemirror_mode": {
    "name": "ipython",
    "version": 3
   },
   "file_extension": ".py",
   "mimetype": "text/x-python",
   "name": "python",
   "nbconvert_exporter": "python",
   "pygments_lexer": "ipython3",
   "version": "3.10.9"
  }
 },
 "nbformat": 4,
 "nbformat_minor": 5
}
