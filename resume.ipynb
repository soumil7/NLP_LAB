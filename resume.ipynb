{
 "cells": [
  {
   "cell_type": "code",
   "execution_count": 6,
   "id": "de5588d4",
   "metadata": {},
   "outputs": [
    {
     "name": "stdout",
     "output_type": "stream",
     "text": [
      "Requirement already satisfied: PyPDF2 in c:\\users\\soumi\\anaconda3\\lib\\site-packages (3.0.1)\n"
     ]
    }
   ],
   "source": [
    "!pip install PyPDF2\n"
   ]
  },
  {
   "cell_type": "code",
   "execution_count": 8,
   "id": "01b0bb65",
   "metadata": {},
   "outputs": [
    {
     "name": "stdout",
     "output_type": "stream",
     "text": [
      "Collecting PyPDF2==2.12.1\n",
      "  Using cached pypdf2-2.12.1-py3-none-any.whl (222 kB)\n",
      "Installing collected packages: PyPDF2\n",
      "  Attempting uninstall: PyPDF2\n",
      "    Found existing installation: PyPDF2 3.0.1\n",
      "    Uninstalling PyPDF2-3.0.1:\n",
      "      Successfully uninstalled PyPDF2-3.0.1\n",
      "Successfully installed PyPDF2-2.12.1\n",
      "Note: you may need to restart the kernel to use updated packages.\n"
     ]
    }
   ],
   "source": [
    "pip install --upgrade PyPDF2==2.12.1"
   ]
  },
  {
   "cell_type": "code",
   "execution_count": 9,
   "id": "001c755a",
   "metadata": {},
   "outputs": [],
   "source": [
    "import PyPDF2"
   ]
  },
  {
   "cell_type": "code",
   "execution_count": 10,
   "id": "2b7ddd58",
   "metadata": {},
   "outputs": [
    {
     "name": "stdout",
     "output_type": "stream",
     "text": [
      "Collecting textract\n",
      "  Using cached textract-1.6.5-py3-none-any.whl (23 kB)\n",
      "Collecting pdfminer.six==20191110\n",
      "  Using cached pdfminer.six-20191110-py2.py3-none-any.whl (5.6 MB)\n",
      "Collecting six~=1.12.0\n",
      "  Using cached six-1.12.0-py2.py3-none-any.whl (10 kB)\n",
      "Collecting docx2txt~=0.8\n",
      "  Using cached docx2txt-0.8.tar.gz (2.8 kB)\n",
      "  Preparing metadata (setup.py): started\n",
      "  Preparing metadata (setup.py): finished with status 'done'\n",
      "Collecting python-pptx~=0.6.18\n",
      "  Using cached python_pptx-0.6.23-py3-none-any.whl (471 kB)\n",
      "Collecting beautifulsoup4~=4.8.0\n",
      "  Using cached beautifulsoup4-4.8.2-py3-none-any.whl (106 kB)\n",
      "Collecting xlrd~=1.2.0\n",
      "  Using cached xlrd-1.2.0-py2.py3-none-any.whl (103 kB)\n",
      "Collecting SpeechRecognition~=3.8.1\n",
      "  Using cached SpeechRecognition-3.8.1-py2.py3-none-any.whl (32.8 MB)\n",
      "Collecting chardet==3.*\n",
      "  Using cached chardet-3.0.4-py2.py3-none-any.whl (133 kB)\n",
      "Collecting argcomplete~=1.10.0\n",
      "  Using cached argcomplete-1.10.3-py2.py3-none-any.whl (36 kB)\n",
      "Collecting extract-msg<=0.29.*\n",
      "  Using cached extract_msg-0.28.7-py2.py3-none-any.whl (69 kB)\n",
      "Requirement already satisfied: sortedcontainers in c:\\users\\soumi\\anaconda3\\lib\\site-packages (from pdfminer.six==20191110->textract) (2.4.0)\n",
      "Collecting pycryptodome\n",
      "  Downloading pycryptodome-3.19.1-cp35-abi3-win_amd64.whl (1.7 MB)\n",
      "     ---------------------------------------- 1.7/1.7 MB 5.9 MB/s eta 0:00:00\n",
      "Requirement already satisfied: soupsieve>=1.2 in c:\\users\\soumi\\anaconda3\\lib\\site-packages (from beautifulsoup4~=4.8.0->textract) (2.3.2.post1)\n",
      "Collecting tzlocal>=2.1\n",
      "  Using cached tzlocal-5.2-py3-none-any.whl (17 kB)\n",
      "Collecting compressed-rtf>=1.0.6\n",
      "  Using cached compressed_rtf-1.0.6.tar.gz (5.8 kB)\n",
      "  Preparing metadata (setup.py): started\n",
      "  Preparing metadata (setup.py): finished with status 'done'\n",
      "Collecting imapclient==2.1.0\n",
      "  Using cached IMAPClient-2.1.0-py2.py3-none-any.whl (73 kB)\n",
      "Collecting olefile>=0.46\n",
      "  Downloading olefile-0.47-py2.py3-none-any.whl (114 kB)\n",
      "     -------------------------------------- 114.6/114.6 kB 6.5 MB/s eta 0:00:00\n",
      "Collecting ebcdic>=1.1.1\n",
      "  Using cached ebcdic-1.1.1-py2.py3-none-any.whl (128 kB)\n",
      "Collecting XlsxWriter>=0.5.7\n",
      "  Using cached XlsxWriter-3.1.9-py3-none-any.whl (154 kB)\n",
      "Requirement already satisfied: lxml>=3.1.0 in c:\\users\\soumi\\anaconda3\\lib\\site-packages (from python-pptx~=0.6.18->textract) (4.9.1)\n",
      "Requirement already satisfied: Pillow>=3.3.2 in c:\\users\\soumi\\anaconda3\\lib\\site-packages (from python-pptx~=0.6.18->textract) (9.4.0)\n",
      "Collecting tzdata\n",
      "  Downloading tzdata-2023.4-py2.py3-none-any.whl (346 kB)\n",
      "     -------------------------------------- 346.6/346.6 kB 7.2 MB/s eta 0:00:00\n",
      "Building wheels for collected packages: docx2txt, compressed-rtf\n",
      "  Building wheel for docx2txt (setup.py): started\n",
      "  Building wheel for docx2txt (setup.py): finished with status 'done'\n",
      "  Created wheel for docx2txt: filename=docx2txt-0.8-py3-none-any.whl size=3973 sha256=87728fee4205a14bdb761eb0d2d7def98b2a397310893fb8f4413d0d19bfd446\n",
      "  Stored in directory: c:\\users\\soumi\\appdata\\local\\pip\\cache\\wheels\\3c\\78\\a3\\ef70996aa66e38229494dbd84cd747e2e0668f1940bf4a7de8\n",
      "  Building wheel for compressed-rtf (setup.py): started\n",
      "  Building wheel for compressed-rtf (setup.py): finished with status 'done'\n",
      "  Created wheel for compressed-rtf: filename=compressed_rtf-1.0.6-py3-none-any.whl size=6197 sha256=16b4f5ae8103341c24ae1f9a76c003f69e5272e70a10f974338f19c400ab26d6\n",
      "  Stored in directory: c:\\users\\soumi\\appdata\\local\\pip\\cache\\wheels\\0d\\22\\1b\\54fcd3adc245478d3df0a8890a338ee12c0c817f5436c38515\n",
      "Successfully built docx2txt compressed-rtf\n",
      "Installing collected packages: SpeechRecognition, ebcdic, docx2txt, compressed-rtf, chardet, argcomplete, XlsxWriter, xlrd, tzdata, six, pycryptodome, olefile, beautifulsoup4, tzlocal, python-pptx, pdfminer.six, imapclient, extract-msg, textract\n",
      "  Attempting uninstall: chardet\n",
      "    Found existing installation: chardet 4.0.0\n",
      "    Uninstalling chardet-4.0.0:\n",
      "      Successfully uninstalled chardet-4.0.0\n",
      "  Attempting uninstall: six\n",
      "    Found existing installation: six 1.16.0\n",
      "    Uninstalling six-1.16.0:\n",
      "      Successfully uninstalled six-1.16.0\n",
      "  Attempting uninstall: beautifulsoup4\n",
      "    Found existing installation: beautifulsoup4 4.11.1\n",
      "    Uninstalling beautifulsoup4-4.11.1:\n",
      "      Successfully uninstalled beautifulsoup4-4.11.1\n",
      "Successfully installed SpeechRecognition-3.8.1 XlsxWriter-3.1.9 argcomplete-1.10.3 beautifulsoup4-4.8.2 chardet-3.0.4 compressed-rtf-1.0.6 docx2txt-0.8 ebcdic-1.1.1 extract-msg-0.28.7 imapclient-2.1.0 olefile-0.47 pdfminer.six-20191110 pycryptodome-3.19.1 python-pptx-0.6.23 six-1.12.0 textract-1.6.5 tzdata-2023.4 tzlocal-5.2 xlrd-1.2.0\n",
      "Note: you may need to restart the kernel to use updated packages.\n"
     ]
    },
    {
     "name": "stderr",
     "output_type": "stream",
     "text": [
      "ERROR: pip's dependency resolver does not currently take into account all the packages that are installed. This behaviour is the source of the following dependency conflicts.\n",
      "conda-repo-cli 1.0.41 requires requests_mock, which is not installed.\n",
      "conda-repo-cli 1.0.41 requires clyent==1.2.1, but you have clyent 1.2.2 which is incompatible.\n",
      "conda-repo-cli 1.0.41 requires nbformat==5.4.0, but you have nbformat 5.7.0 which is incompatible.\n",
      "anaconda-client 1.11.2 requires six>=1.15.0, but you have six 1.12.0 which is incompatible.\n"
     ]
    }
   ],
   "source": [
    "pip install textract"
   ]
  },
  {
   "cell_type": "code",
   "execution_count": 11,
   "id": "414a206c",
   "metadata": {},
   "outputs": [],
   "source": [
    "import textract"
   ]
  },
  {
   "cell_type": "code",
   "execution_count": 12,
   "id": "6088c8cb",
   "metadata": {},
   "outputs": [
    {
     "name": "stdout",
     "output_type": "stream",
     "text": [
      "Requirement already satisfied: pandas in c:\\users\\soumi\\anaconda3\\lib\\site-packages (1.5.3)\n",
      "Requirement already satisfied: pytz>=2020.1 in c:\\users\\soumi\\anaconda3\\lib\\site-packages (from pandas) (2022.7)\n",
      "Requirement already satisfied: numpy>=1.21.0 in c:\\users\\soumi\\anaconda3\\lib\\site-packages (from pandas) (1.23.5)\n",
      "Requirement already satisfied: python-dateutil>=2.8.1 in c:\\users\\soumi\\anaconda3\\lib\\site-packages (from pandas) (2.8.2)\n",
      "Requirement already satisfied: six>=1.5 in c:\\users\\soumi\\anaconda3\\lib\\site-packages (from python-dateutil>=2.8.1->pandas) (1.12.0)\n",
      "Note: you may need to restart the kernel to use updated packages.\n"
     ]
    }
   ],
   "source": [
    "pip install pandas"
   ]
  },
  {
   "cell_type": "code",
   "execution_count": 13,
   "id": "2e877bec",
   "metadata": {},
   "outputs": [
    {
     "name": "stdout",
     "output_type": "stream",
     "text": [
      "Requirement already satisfied: matplotlib in c:\\users\\soumi\\anaconda3\\lib\\site-packages (3.7.0)\n",
      "Requirement already satisfied: cycler>=0.10 in c:\\users\\soumi\\anaconda3\\lib\\site-packages (from matplotlib) (0.11.0)\n",
      "Requirement already satisfied: kiwisolver>=1.0.1 in c:\\users\\soumi\\anaconda3\\lib\\site-packages (from matplotlib) (1.4.4)\n",
      "Requirement already satisfied: numpy>=1.20 in c:\\users\\soumi\\anaconda3\\lib\\site-packages (from matplotlib) (1.23.5)\n",
      "Requirement already satisfied: pillow>=6.2.0 in c:\\users\\soumi\\anaconda3\\lib\\site-packages (from matplotlib) (9.4.0)\n",
      "Requirement already satisfied: fonttools>=4.22.0 in c:\\users\\soumi\\anaconda3\\lib\\site-packages (from matplotlib) (4.25.0)\n",
      "Requirement already satisfied: python-dateutil>=2.7 in c:\\users\\soumi\\anaconda3\\lib\\site-packages (from matplotlib) (2.8.2)\n",
      "Requirement already satisfied: packaging>=20.0 in c:\\users\\soumi\\anaconda3\\lib\\site-packages (from matplotlib) (22.0)\n",
      "Requirement already satisfied: pyparsing>=2.3.1 in c:\\users\\soumi\\anaconda3\\lib\\site-packages (from matplotlib) (3.0.9)\n",
      "Requirement already satisfied: contourpy>=1.0.1 in c:\\users\\soumi\\anaconda3\\lib\\site-packages (from matplotlib) (1.0.5)\n",
      "Requirement already satisfied: six>=1.5 in c:\\users\\soumi\\anaconda3\\lib\\site-packages (from python-dateutil>=2.7->matplotlib) (1.12.0)\n",
      "Note: you may need to restart the kernel to use updated packages.\n"
     ]
    }
   ],
   "source": [
    "pip install matplotlib"
   ]
  },
  {
   "cell_type": "code",
   "execution_count": 14,
   "id": "a97474a6",
   "metadata": {},
   "outputs": [
    {
     "name": "stdout",
     "output_type": "stream",
     "text": [
      "Collecting camelot-py[base]Note: you may need to restart the kernel to use updated packages.\n",
      "\n",
      "  Using cached camelot_py-0.11.0-py3-none-any.whl (40 kB)\n",
      "Requirement already satisfied: chardet>=3.0.4 in c:\\users\\soumi\\anaconda3\\lib\\site-packages (from camelot-py[base]) (3.0.4)\n",
      "Collecting pypdf>=3.0.0\n",
      "  Downloading pypdf-3.17.4-py3-none-any.whl (278 kB)\n",
      "     -------------------------------------- 278.2/278.2 kB 1.6 MB/s eta 0:00:00\n",
      "Requirement already satisfied: tabulate>=0.8.9 in c:\\users\\soumi\\anaconda3\\lib\\site-packages (from camelot-py[base]) (0.8.10)\n",
      "Requirement already satisfied: openpyxl>=2.5.8 in c:\\users\\soumi\\anaconda3\\lib\\site-packages (from camelot-py[base]) (3.0.10)\n",
      "Collecting pdfminer.six>=20200726\n",
      "  Downloading pdfminer.six-20231228-py3-none-any.whl (5.6 MB)\n",
      "     ---------------------------------------- 5.6/5.6 MB 7.3 MB/s eta 0:00:00\n",
      "Requirement already satisfied: numpy>=1.13.3 in c:\\users\\soumi\\anaconda3\\lib\\site-packages (from camelot-py[base]) (1.23.5)\n",
      "Requirement already satisfied: click>=6.7 in c:\\users\\soumi\\anaconda3\\lib\\site-packages (from camelot-py[base]) (8.0.4)\n",
      "Requirement already satisfied: pandas>=0.23.4 in c:\\users\\soumi\\anaconda3\\lib\\site-packages (from camelot-py[base]) (1.5.3)\n",
      "Collecting camelot-py[base]\n",
      "  Using cached camelot_py-0.10.1-py3-none-any.whl (40 kB)\n",
      "Requirement already satisfied: PyPDF2>=1.26.0 in c:\\users\\soumi\\anaconda3\\lib\\site-packages (from camelot-py[base]) (2.12.1)\n",
      "  Using cached camelot_py-0.10.0-py3-none-any.whl (40 kB)\n",
      "  Using cached camelot_py-0.9.0-py3-none-any.whl (43 kB)\n",
      "Requirement already satisfied: colorama in c:\\users\\soumi\\anaconda3\\lib\\site-packages (from click>=6.7->camelot-py[base]) (0.4.6)\n",
      "Requirement already satisfied: et_xmlfile in c:\\users\\soumi\\anaconda3\\lib\\site-packages (from openpyxl>=2.5.8->camelot-py[base]) (1.1.0)\n",
      "Requirement already satisfied: pytz>=2020.1 in c:\\users\\soumi\\anaconda3\\lib\\site-packages (from pandas>=0.23.4->camelot-py[base]) (2022.7)\n",
      "Requirement already satisfied: python-dateutil>=2.8.1 in c:\\users\\soumi\\anaconda3\\lib\\site-packages (from pandas>=0.23.4->camelot-py[base]) (2.8.2)\n",
      "Requirement already satisfied: charset-normalizer>=2.0.0 in c:\\users\\soumi\\anaconda3\\lib\\site-packages (from pdfminer.six>=20200726->camelot-py[base]) (2.0.4)\n",
      "Requirement already satisfied: cryptography>=36.0.0 in c:\\users\\soumi\\anaconda3\\lib\\site-packages (from pdfminer.six>=20200726->camelot-py[base]) (39.0.1)\n",
      "Requirement already satisfied: cffi>=1.12 in c:\\users\\soumi\\anaconda3\\lib\\site-packages (from cryptography>=36.0.0->pdfminer.six>=20200726->camelot-py[base]) (1.15.1)\n",
      "Requirement already satisfied: six>=1.5 in c:\\users\\soumi\\anaconda3\\lib\\site-packages (from python-dateutil>=2.8.1->pandas>=0.23.4->camelot-py[base]) (1.12.0)\n",
      "Requirement already satisfied: pycparser in c:\\users\\soumi\\anaconda3\\lib\\site-packages (from cffi>=1.12->cryptography>=36.0.0->pdfminer.six>=20200726->camelot-py[base]) (2.21)\n",
      "Installing collected packages: pdfminer.six, camelot-py\n",
      "  Attempting uninstall: pdfminer.six\n",
      "    Found existing installation: pdfminer.six 20191110\n",
      "    Uninstalling pdfminer.six-20191110:\n",
      "      Successfully uninstalled pdfminer.six-20191110\n",
      "Successfully installed camelot-py-0.9.0 pdfminer.six-20231228\n"
     ]
    },
    {
     "name": "stderr",
     "output_type": "stream",
     "text": [
      "WARNING: camelot-py 0.9.0 does not provide the extra 'base'\n",
      "ERROR: pip's dependency resolver does not currently take into account all the packages that are installed. This behaviour is the source of the following dependency conflicts.\n",
      "textract 1.6.5 requires pdfminer.six==20191110, but you have pdfminer-six 20231228 which is incompatible.\n"
     ]
    }
   ],
   "source": [
    "pip install camelot-py[base]"
   ]
  },
  {
   "cell_type": "code",
   "execution_count": 15,
   "id": "04ac2abd",
   "metadata": {},
   "outputs": [],
   "source": [
    "import PyPDF2\n",
    "import textract\n",
    "import re\n",
    "import string\n",
    "import pandas as pd\n",
    "import matplotlib.pyplot as plt"
   ]
  },
  {
   "cell_type": "code",
   "execution_count": 20,
   "id": "a287563a",
   "metadata": {},
   "outputs": [
    {
     "name": "stdout",
     "output_type": "stream",
     "text": [
      "<_io.BufferedReader name='Roberto Salazar - Resume.pdf'>\n"
     ]
    }
   ],
   "source": [
    "pdfFileObj = open('Roberto Salazar - Resume.pdf', 'rb')\n",
    "print(pdfFileObj)"
   ]
  },
  {
   "cell_type": "code",
   "execution_count": 21,
   "id": "3e438509",
   "metadata": {},
   "outputs": [
    {
     "name": "stdout",
     "output_type": "stream",
     "text": [
      "<PyPDF2._reader.PdfFileReader object at 0x000002C0FB4C8D60>\n"
     ]
    }
   ],
   "source": [
    "pdfReader = PyPDF2.PdfFileReader(pdfFileObj)\n",
    "print(pdfReader)"
   ]
  },
  {
   "cell_type": "code",
   "execution_count": 18,
   "id": "98237763",
   "metadata": {},
   "outputs": [],
   "source": [
    "no_pages = pdfReader.numPages"
   ]
  },
  {
   "cell_type": "code",
   "execution_count": 19,
   "id": "eddc131d",
   "metadata": {},
   "outputs": [
    {
     "name": "stdout",
     "output_type": "stream",
     "text": [
      "1\n"
     ]
    }
   ],
   "source": [
    "print(no_pages)"
   ]
  },
  {
   "cell_type": "code",
   "execution_count": 24,
   "id": "40c10471",
   "metadata": {},
   "outputs": [
    {
     "name": "stdout",
     "output_type": "stream",
     "text": [
      " roberto salazar 21 fayette street apt. #3l, brooklyn, ny 11206  (607) 422-0469 | rsalaza4@binghamton.edu | linkedin.com/in/roberto-salazar-reyna  education   state university of new york at binghamton                                                                                                                                           binghamton, ny master of science (ms) in industrial and systems engineering                                                                                   august 2018 – expected august 2020                                                        gpa: 4.00/4.00 | alpha pi mu industrial engineering honor society  university of monterrey (udem)                                                                                                                                                                 monterrey, mexico bachelor of science (bs) in industrial and systems engineering                                                                                              august 2015 – december 2019 gpa: 3.97/4.00 | cum laude | dean’s list: fall 2015 – spring 2019  technical skills   languages: python, vba statistical software: r, minitab optimization software: gams, ampl engineering tools: tableau, sql, ms visio, autocad, siemens nx, simio, microsoft office  professional experience   memorial sloan kettering cancer center                                                                                                                                                        new york, ny   process improvement engineer                                                  july 2019 – present • oversaw quality data collection and reporting processes; turned data into valuable business insights through digital dashboards  • facilitated and managed multiple quality and process improvement projects adopting lean, six sigma, dmaic and pdsa frameworks • served as an expert resource on quality analysis and investigation; led out root cause analyses on adverse events and near misses using techniques and tools such as process mapping, pareto chart, ishikawa diagram, correlation analyses and 5 whys • developed a machine learning classification model using text mining to predict the occurrence of adverse events based on patients’ medical conditions • delivered high quality ad-hoc reports on productivity, staff performance and system value using advanced statistical programming and business analytic skills  state university of new york at binghamton                                                                                                                                             binghamton, ny optimization and operations research teaching assistant                              january 2019 – may 2019 • instructed optimization and operations research undergraduate course to 40 students by designing lectures, leading discussions, demonstrating procedures, fielding questions and grading students’ assignments and tests • provided students with tutoring sessions during office hours and regular out of class assistance  ge healthcare                                                                                                                                                                                               monterrey, mexico supply chain summer intern                       june 2018 – july 2018 • monitored proactively operations for changing business requirements and process bottlenecks • analyzed workforce utilization, facility layout and operational data such as production costs and production schedules to determine efficient utilization of workers and equipment • helped defining, designing and improving the distribution standard operational processes of suppliers to maximize process efficiency and productivity • implemented change initiatives projects to achieve desired results by supporting and monitoring the execution of transformational change and processes • ensured an optimal fit between people, processes, technology and tools through direct observations, data collection and statistical analysis of processes    british american tobacco                                                                                                                      monterrey, mexico operations management and safety intern                                                                                july 2017 – may 2018 • performed process failure modes and effects analyses (pfmea) to evaluate and correct processes proactively preventing failures to occur • conducted manufacturing process risk assessments (mpra) to explore ways to avoid unnecessary costs, time delays and poor-quality products • produced databases, tools and reports for storing, summarizing, visualizing and root causing safety reports data; analyzed patterns and trends within datasets for the design and development of preventive and corrective actions plans • redesigned and executed with a cross-functional management team the employee safety program through machinery and personnel audits; reduced production stoppages related with human accidents   spitzer industries                                                                                                                                                                                                 houston, tx  data analyst summer intern                                                                                     june 2016 – july 2016 • developed, maintained and improved manufacturing metrics and reporting tools • prepared financial and operational data for annual business plan and production forecasts; presented report to top management • analyzed projects costs, key process indicators and resources distribution for future optimization based on demand prediction modeling  certifications   lean six sigma green belt                                                                                                                                                                           binghamton, ny   certifier: state university of new york at binghamton                                                                                                                                                 april 2019 internal auditor iso 9001:2015                                                                       monterrey, mexico certifier: société de génerale de surveillance                               december 2017  publications   data analytics for industrial and systems engineers                                                                                                                                    new york, ny   publisher: medium – profile: https://medium.com/@rsalaza4                                                                                                                 october 2019 – present                                    • published articles related with data science and data analytics applied into industrial and systems engineering contexts (e.g. lean, six sigma, quality assurance, process improvement, inventory management and operations research) \n"
     ]
    }
   ],
   "source": [
    "count = 0 \n",
    "text = \"\"\n",
    "while count < no_pages: \n",
    "    pageObj = pdfReader.getPage(count)\n",
    "    count += 1\n",
    "    text += pageObj.extractText() \n",
    "text = text.lower() \n",
    "print(text)"
   ]
  },
  {
   "cell_type": "code",
   "execution_count": 26,
   "id": "01779802",
   "metadata": {},
   "outputs": [],
   "source": [
    "text = re.sub(r'\\d+', '', text) \n",
    "text = text.translate(str.maketrans('','',string.punctuation))"
   ]
  },
  {
   "cell_type": "code",
   "execution_count": 27,
   "id": "29eaa14d",
   "metadata": {},
   "outputs": [],
   "source": [
    "terms = {\n",
    "    'Quality/Six Sigma': ['black belt', 'capability analysis', 'control charts', 'doe', 'dmaic', 'fishbone',\n",
    "                          'gage r&r', 'green belt', 'ishikawa', 'iso', 'kaizen', 'kpi', 'lean', 'metrics',\n",
    "                          'pdsa', 'performance improvement', 'process improvement', 'quality',\n",
    "                          'quality circles', 'quality tools', 'root cause', 'six sigma',\n",
    "                          'stability analysis', 'statistical analysis', 'tqm'],\n",
    "    'Operations management': ['automation', 'bottleneck', 'constraints', 'cycle time', 'efficiency', 'fmea',\n",
    "                              'machinery', 'maintenance', 'manufacture', 'line balancing', 'oee', 'operations',\n",
    "                              'operations research', 'optimization', 'overall equipment effectiveness',\n",
    "                              'pfmea', 'process', 'process mapping', 'production', 'resources', 'safety',\n",
    "                              'stoppage', 'value stream mapping', 'utilization'],\n",
    "    'Supply chain': ['abc analysis', 'apics', 'customer', 'customs', 'delivery', 'distribution', 'eoq', 'epq',\n",
    "                     'fleet', 'forecast', 'inventory', 'logistic', 'materials', 'outsourcing', 'procurement',\n",
    "                     'reorder point', 'rout', 'safety stock', 'scheduling', 'shipping', 'stock', 'suppliers',\n",
    "                     'third party logistics', 'transport', 'transportation', 'traffic', 'supply chain',\n",
    "                     'vendor', 'warehouse', 'wip', 'work in progress'],\n",
    "    'Project management': ['administration', 'agile', 'budget', 'cost', 'direction', 'feasibility analysis',\n",
    "                           'finance', 'kanban', 'leader', 'leadership', 'management', 'milestones', 'planning',\n",
    "                           'pmi', 'pmp', 'problem', 'project', 'risk', 'schedule', 'scrum', 'stakeholders'],\n",
    "    'Data analytics': ['analytics', 'api', 'aws', 'big data', 'busines intelligence', 'clustering', 'code',\n",
    "                       'coding', 'data', 'database', 'data mining', 'data science', 'deep learning', 'hadoop',\n",
    "                       'hypothesis test', 'iot', 'internet', 'machine learning', 'modeling', 'nosql', 'nlp',\n",
    "                       'predictive', 'programming', 'python', 'r', 'sql', 'tableau', 'text mining',\n",
    "                       'visualuzation'],\n",
    "    'Healthcare': ['adverse events', 'care', 'clinic', 'cphq', 'ergonomics', 'healthcare',\n",
    "                   'health care', 'health', 'hospital', 'human factors', 'medical', 'near misses',\n",
    "                   'patient', 'reporting system']\n",
    "}\n"
   ]
  },
  {
   "cell_type": "code",
   "execution_count": 28,
   "id": "1d8408a6",
   "metadata": {},
   "outputs": [],
   "source": [
    "quality = 0\n",
    "operations = 0\n",
    "supplychain = 0\n",
    "project = 0\n",
    "data = 0\n",
    "healthcare = 0"
   ]
  },
  {
   "cell_type": "code",
   "execution_count": 29,
   "id": "74955291",
   "metadata": {},
   "outputs": [],
   "source": [
    "scores = []"
   ]
  },
  {
   "cell_type": "code",
   "execution_count": 30,
   "id": "f23bc88b",
   "metadata": {},
   "outputs": [],
   "source": [
    "for area in terms.keys():\n",
    "    if area == 'Quality/Six Sigma':\n",
    "        for word in terms[area]:\n",
    "            if word in text:\n",
    "                quality += 1\n",
    "        scores.append(quality)\n",
    "    elif area == 'Operations management':\n",
    "        for word in terms[area]:\n",
    "            if word in text:\n",
    "                operations += 1\n",
    "        scores.append(operations)\n",
    "    elif area == 'Supply chain':\n",
    "        for word in terms[area]:\n",
    "            if word in text:\n",
    "                supplychain += 1\n",
    "        scores.append(supplychain)\n",
    "    elif area == 'Project management':\n",
    "        for word in terms[area]:\n",
    "            if word in text:\n",
    "                project += 1\n",
    "        scores.append(project)\n",
    "    elif area == 'Data analytics':\n",
    "        for word in terms[area]:\n",
    "            if word in text:\n",
    "                data += 1\n",
    "        scores.append(data)\n",
    "    else:\n",
    "        for word in terms[area]:\n",
    "            if word in text:\n",
    "                healthcare += 1\n",
    "        scores.append(healthcare)\n"
   ]
  },
  {
   "cell_type": "code",
   "execution_count": 36,
   "id": "8334bb36",
   "metadata": {},
   "outputs": [],
   "source": [
    "summary = pd.DataFrame(scores,index = terms.keys(), columns=['score'])"
   ]
  },
  {
   "cell_type": "code",
   "execution_count": 37,
   "id": "d2f5ab6a",
   "metadata": {},
   "outputs": [
    {
     "data": {
      "text/plain": [
       "<Figure size 1000x1000 with 0 Axes>"
      ]
     },
     "metadata": {},
     "output_type": "display_data"
    }
   ],
   "source": [
    "pie = plt.figure(figsize=(10, 10))"
   ]
  },
  {
   "cell_type": "code",
   "execution_count": 42,
   "id": "71ad3aca",
   "metadata": {},
   "outputs": [
    {
     "data": {
      "image/png": "[encoded data removed]",
      "text/plain": [
       "<Figure size 640x480 with 1 Axes>"
      ]
     },
     "metadata": {},
     "output_type": "display_data"
    }
   ],
   "source": [
    "plt.pie(summary['score'], labels = summary.index)\n",
    "plt.title('Industrial Engineering Candidate - Resume Decomposition by Areas')\n",
    "plt.axis('equal')\n",
    "plt.show()\n",
    "pie.savefig('resume_screening_results.png')"
   ]
  },
  {
   "cell_type": "code",
   "execution_count": null,
   "id": "1a6d5b34",
   "metadata": {},
   "outputs": [],
   "source": []
  }
 ],
 "metadata": {
  "kernelspec": {
   "display_name": "Python 3 (ipykernel)",
   "language": "python",
   "name": "python3"
  },
  "language_info": {
   "codemirror_mode": {
    "name": "ipython",
    "version": 3
   },
   "file_extension": ".py",
   "mimetype": "text/x-python",
   "name": "python",
   "nbconvert_exporter": "python",
   "pygments_lexer": "ipython3",
   "version": "3.10.9"
  }
 },
 "nbformat": 4,
 "nbformat_minor": 5
}
