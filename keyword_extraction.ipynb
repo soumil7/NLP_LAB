{
 "cells": [
  {
   "cell_type": "code",
   "execution_count": 2,
   "id": "a95a1d8a",
   "metadata": {},
   "outputs": [
    {
     "name": "stdout",
     "output_type": "stream",
     "text": [
      "Requirement already satisfied: nltk in c:\\users\\soumi\\anaconda3\\lib\\site-packages (3.7)\n",
      "Requirement already satisfied: tqdm in c:\\users\\soumi\\anaconda3\\lib\\site-packages (from nltk) (4.64.1)\n",
      "Requirement already satisfied: click in c:\\users\\soumi\\anaconda3\\lib\\site-packages (from nltk) (8.0.4)\n",
      "Requirement already satisfied: regex>=2021.8.3 in c:\\users\\soumi\\anaconda3\\lib\\site-packages (from nltk) (2022.7.9)\n",
      "Requirement already satisfied: joblib in c:\\users\\soumi\\anaconda3\\lib\\site-packages (from nltk) (1.1.1)\n",
      "Requirement already satisfied: colorama in c:\\users\\soumi\\anaconda3\\lib\\site-packages (from click->nltk) (0.4.6)\n",
      "Note: you may need to restart the kernel to use updated packages.\n"
     ]
    }
   ],
   "source": [
    "pip install nltk"
   ]
  },
  {
   "cell_type": "code",
   "execution_count": 6,
   "id": "ec97aaa0",
   "metadata": {},
   "outputs": [],
   "source": [
    "import nltk\n",
    "from nltk.tokenize import word_tokenize \n",
    "from nltk.corpus import stopwords "
   ]
  },
  {
   "cell_type": "code",
   "execution_count": 7,
   "id": "704b9a46",
   "metadata": {},
   "outputs": [],
   "source": [
    "from nltk.probability import FreqDist"
   ]
  },
  {
   "cell_type": "code",
   "execution_count": 8,
   "id": "2048ce99",
   "metadata": {},
   "outputs": [
    {
     "name": "stderr",
     "output_type": "stream",
     "text": [
      "[nltk_data] Downloading package stopwords to\n",
      "[nltk_data]     C:\\Users\\soumi\\AppData\\Roaming\\nltk_data...\n",
      "[nltk_data]   Package stopwords is already up-to-date!\n",
      "[nltk_data] Downloading package punkt to\n",
      "[nltk_data]     C:\\Users\\soumi\\AppData\\Roaming\\nltk_data...\n",
      "[nltk_data]   Package punkt is already up-to-date!\n"
     ]
    },
    {
     "data": {
      "text/plain": [
       "True"
      ]
     },
     "execution_count": 8,
     "metadata": {},
     "output_type": "execute_result"
    }
   ],
   "source": [
    "nltk.download('stopwords')\n",
    "nltk.download('punkt')"
   ]
  },
  {
   "cell_type": "code",
   "execution_count": 12,
   "id": "0f8b13f1",
   "metadata": {},
   "outputs": [],
   "source": [
    "text = \"Natural language processing is a field of study in artificial intelligence. \" \\\n",
    "                  \"It focuses on the interaction between computers and humans using natural language.\"\n"
   ]
  },
  {
   "cell_type": "code",
   "execution_count": 13,
   "id": "e0b690ac",
   "metadata": {},
   "outputs": [
    {
     "name": "stdout",
     "output_type": "stream",
     "text": [
      "Natural language processing is a field of study in artificial intelligence. It focuses on the interaction between computers and humans using natural language.\n"
     ]
    }
   ],
   "source": [
    "print(text)"
   ]
  },
  {
   "cell_type": "code",
   "execution_count": 25,
   "id": "ea8fa936",
   "metadata": {},
   "outputs": [
    {
     "name": "stdout",
     "output_type": "stream",
     "text": [
      "Filtered: ['natural', 'language', 'processing', 'field', 'study', 'artificial', 'intelligence', 'focuses', 'interaction', 'computers', 'humans', 'using', 'natural', 'language']\n",
      "Frequent: <FreqDist with 12 samples and 14 outcomes>\n",
      "Keywords: ['natural', 'language', 'processing', 'field', 'study']\n"
     ]
    }
   ],
   "source": [
    "def extract_keywords(text, numofkey = 5):\n",
    "    words = word_tokenize(text.lower()) \n",
    "    stop_words = set(stopwords.words('english')) \n",
    "    filtered = [word for word in words if word.isalnum() and word not in stop_words]\n",
    "    print(\"Filtered:\", filtered) \n",
    "    freq_dist = FreqDist(filtered)\n",
    "    print(\"Frequent:\",freq_dist) \n",
    "    key_words = freq_dist.most_common(numofkey)\n",
    "    return[word for word, _ in key_words]\n",
    "keywords = extract_keywords(text, numofkey=5)\n",
    "print(\"Keywords:\", keywords)"
   ]
  },
  {
   "cell_type": "code",
   "execution_count": null,
   "id": "8d437052",
   "metadata": {},
   "outputs": [],
   "source": []
  }
 ],
 "metadata": {
  "kernelspec": {
   "display_name": "Python 3 (ipykernel)",
   "language": "python",
   "name": "python3"
  },
  "language_info": {
   "codemirror_mode": {
    "name": "ipython",
    "version": 3
   },
   "file_extension": ".py",
   "mimetype": "text/x-python",
   "name": "python",
   "nbconvert_exporter": "python",
   "pygments_lexer": "ipython3",
   "version": "3.10.9"
  }
 },
 "nbformat": 4,
 "nbformat_minor": 5
}
